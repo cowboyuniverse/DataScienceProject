{
 "cells": [
  {
   "cell_type": "code",
   "execution_count": 22,
   "metadata": {
    "collapsed": true
   },
   "outputs": [],
   "source": [
    "# import packeage and library\n",
    "import numpy as np\n",
    "import pandas as pd\n",
    "from sklearn.model_selection import train_test_split\n",
    "from sklearn.metrics import accuracy_score\n",
    "from sklearn.model_selection import cross_val_score\n",
    "\n",
    "\n",
    "from numpy import array\n",
    "from sklearn.tree import DecisionTreeClassifier"
   ]
  },
  {
   "cell_type": "code",
   "execution_count": 23,
   "metadata": {},
   "outputs": [
    {
     "data": {
      "text/plain": [
       "9"
      ]
     },
     "execution_count": 23,
     "metadata": {},
     "output_type": "execute_result"
    }
   ],
   "source": [
    "# generate data frame\n",
    "# list size : 500\n",
    "cuisine_train_dataframe = pd.read_json('3000.json')\n",
    "\n",
    "#print(cuisine_train_dataframe)\n",
    "\n",
    "#          cuisine   id                     ingredients\n",
    "#0           greek  10259  [romaine lettuce, black olives, grape tomatoes...\n",
    "#1     southern_us  25693  [plain flour, ground pepper, salt, tomatoes, g...\n",
    "#2        filipino  20130  [eggs, pepper, salt, mayonaise, cooking oil, g...\n",
    "#3          indian  22213                [water, vegetable oil, wheat, salt]\n",
    "\n",
    "\n",
    "feature_cols = ['ingredients']\n",
    "\n",
    "X = cuisine_train_dataframe[feature_cols]\n",
    "\n",
    "# converting array of strings for each json object to array of 1's and zeros by finding the number of unique strings \n",
    "#in all arrays in total\n",
    "# and creating that many columns and looping through all strings in the arrays and finding their index and setting it to 1 \n",
    "\n",
    "keys = set()\n",
    "\n",
    "for ing_list in X['ingredients']:\n",
    "    for ing in ing_list:\n",
    "        keys.add(ing)\n",
    "        \n",
    "# print (keys)\n",
    "\n",
    "\n",
    "# create list of same size as X of lists of zeros of size n where n = the number of unique keys         \n",
    "encoded = np.zeros(len(X) * len(keys)).reshape((len(X), len(keys)))\n",
    "\n",
    "key_list = list(keys)\n",
    "\n",
    "my_index = 0\n",
    "\n",
    "for l in X['ingredients']:\n",
    "    for item in l:\n",
    "        index = key_list.index(item)\n",
    "        encoded[my_index][index] = 1\n",
    "    my_index += 1\n",
    "    \n",
    "X = np.array(encoded)\n",
    "\n",
    "# print(\"the first json object has total ingredients: \")\n",
    "np.count_nonzero(X[0] == 1)\n",
    "# 9 columns are set to 1 \n",
    "\n",
    "# print(y)"
   ]
  },
  {
   "cell_type": "code",
   "execution_count": 24,
   "metadata": {
    "collapsed": true
   },
   "outputs": [],
   "source": [
    "# generate label vector\n",
    "y = cuisine_train_dataframe['cuisine'] \n",
    "\n",
    "# split data\n",
    "X_train, X_test, y_train, y_test = train_test_split(X, y, test_size=0.06, random_state=1)"
   ]
  },
  {
   "cell_type": "code",
   "execution_count": 25,
   "metadata": {},
   "outputs": [
    {
     "name": "stdout",
     "output_type": "stream",
     "text": [
      "Decisiontree Accuracy: 0.444444444444\n",
      "\n",
      "Decision Tree accuracy with cross validation: 0.488752717785\n"
     ]
    }
   ],
   "source": [
    "# decision tree\n",
    "decisiontree = DecisionTreeClassifier()\n",
    "\n",
    "decisiontree.fit(X_train, y_train)\n",
    "\n",
    "# predict\n",
    "decisiontree_y_predict = decisiontree.predict(X_test)\n",
    "\n",
    "# calculate accuracy\n",
    "decisiontree_accuracy = accuracy_score(y_test, decisiontree_y_predict)\n",
    "\n",
    "print('Decisiontree Accuracy:', decisiontree_accuracy)\n",
    "\n",
    "decisiontree_accuracy_list = cross_val_score(decisiontree, X, y, cv=10, scoring='accuracy')\n",
    "\n",
    "\n",
    "# use average of accuracy values as final result\n",
    "\n",
    "decisiontree_accuracy_cv = decisiontree_accuracy_list.mean()\n",
    "print('\\nDecision Tree accuracy with cross validation:',decisiontree_accuracy_cv)"
   ]
  },
  {
   "cell_type": "code",
   "execution_count": null,
   "metadata": {
    "collapsed": true
   },
   "outputs": [],
   "source": []
  }
 ],
 "metadata": {
  "kernelspec": {
   "display_name": "Python 3",
   "language": "python",
   "name": "python3"
  },
  "language_info": {
   "codemirror_mode": {
    "name": "ipython",
    "version": 3
   },
   "file_extension": ".py",
   "mimetype": "text/x-python",
   "name": "python",
   "nbconvert_exporter": "python",
   "pygments_lexer": "ipython3",
   "version": "3.6.1"
  }
 },
 "nbformat": 4,
 "nbformat_minor": 2
}
