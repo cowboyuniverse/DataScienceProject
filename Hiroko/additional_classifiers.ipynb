{
 "cells": [
  {
   "cell_type": "code",
   "execution_count": 1,
   "metadata": {
    "collapsed": true
   },
   "outputs": [],
   "source": [
    "import numpy as np\n",
    "import pandas as pd\n",
    "from sklearn.model_selection import train_test_split\n",
    "from sklearn.metrics import accuracy_score\n",
    "from sklearn.model_selection import cross_val_score\n",
    "\n",
    "from numpy import array\n",
    "\n",
    "from sklearn.tree import DecisionTreeClassifier\n",
    "from sklearn.ensemble import RandomForestClassifier, AdaBoostClassifier\n",
    "from sklearn.naive_bayes import GaussianNB\n",
    "from sklearn import linear_model"
   ]
  },
  {
   "cell_type": "code",
   "execution_count": 2,
   "metadata": {
    "collapsed": false
   },
   "outputs": [
    {
     "name": "stdout",
     "output_type": "stream",
     "text": [
      "the first json object has total ingredients: \n"
     ]
    },
    {
     "data": {
      "text/plain": [
       "9"
      ]
     },
     "execution_count": 2,
     "metadata": {},
     "output_type": "execute_result"
    }
   ],
   "source": [
    "cuisine_train_dataframe = pd.read_json('train.json')\n",
    "\n",
    "feature_cols = ['ingredients']\n",
    "\n",
    "X = cuisine_train_dataframe[feature_cols]\n",
    "\n",
    "# convert array of strings for each json object to array of 1's and zeros by finding the number of unique ingredients \n",
    "#in all arrays \n",
    "# and creating that many columns and looping through all strings in the arrays and finding their index and setting it to 1\n",
    "\n",
    "keys = set()\n",
    "\n",
    "for ing_list in X['ingredients']:\n",
    "    for ing in ing_list:\n",
    "        keys.add(ing)\n",
    "        \n",
    "# create list of same size as X of lists of zeros of size n where n = the number of unique keys         \n",
    "encoded = np.zeros(len(X) * len(keys)).reshape((len(X), len(keys)))\n",
    "\n",
    "key_list = list(keys)\n",
    "\n",
    "my_index = 0\n",
    "\n",
    "for l in X['ingredients']:\n",
    "    for item in l:\n",
    "        index = key_list.index(item)\n",
    "        encoded[my_index][index] = 1\n",
    "    my_index += 1\n",
    "    \n",
    "X = np.array(encoded)\n",
    "\n",
    "print(\"the first json object has total ingredients: \")\n",
    "np.count_nonzero(X[0] == 1)\n",
    "# 9 columns are set to 1 \n"
   ]
  },
  {
   "cell_type": "code",
   "execution_count": 3,
   "metadata": {
    "collapsed": false
   },
   "outputs": [
    {
     "name": "stdout",
     "output_type": "stream",
     "text": [
      "\n",
      "Accuracy Random Forest:  0.699523809524\n"
     ]
    }
   ],
   "source": [
    "# label vector\n",
    "y = cuisine_train_dataframe['cuisine'] \n",
    "\n",
    "X_train, X_test, y_train, y_test = train_test_split(X, y, test_size=0.06, random_state=1)\n",
    "\n",
    "rf =  RandomForestClassifier(n_estimators = 25, bootstrap = True, random_state=0)\n",
    "rf.fit(X_train, y_train)\n",
    "y_predict = rf.predict(X_test)\n",
    "\n",
    "accuracy = accuracy_score(y_test, y_predict)\n",
    "\n",
    "print(\"\\nAccuracy Random Forest: \", accuracy)"
   ]
  },
  {
   "cell_type": "code",
   "execution_count": 4,
   "metadata": {
    "collapsed": false
   },
   "outputs": [
    {
     "name": "stdout",
     "output_type": "stream",
     "text": [
      "\n",
      "\n",
      "Accuracy Naive Bayes:  0.360952380952 \n",
      "\n"
     ]
    }
   ],
   "source": [
    "gnb = GaussianNB()\n",
    "gnb.fit(X_train, y_train)\n",
    "y_predict_gnb = gnb.predict(X_test)\n",
    "accuracy_gnb = accuracy_score(y_test, y_predict_gnb)\n",
    "\n",
    "print(\"\\n\\nAccuracy Naive Bayes: \", accuracy_gnb, \"\\n\") "
   ]
  },
  {
   "cell_type": "code",
   "execution_count": 5,
   "metadata": {
    "collapsed": false
   },
   "outputs": [
    {
     "name": "stdout",
     "output_type": "stream",
     "text": [
      "\n",
      "Accuracy Decision Tree:  0.567142857143 \n",
      "\n"
     ]
    }
   ],
   "source": [
    "decTree =  DecisionTreeClassifier(criterion='entropy')\n",
    "decTree.fit(X_train, y_train)\n",
    "y_predict_decTree = decTree.predict(X_test)\n",
    "\n",
    "accuracy_decTree = accuracy_score(y_test, y_predict_decTree)\n",
    "\n",
    "print(\"\\nAccuracy Decision Tree: \", accuracy_decTree, \"\\n\") "
   ]
  },
  {
   "cell_type": "code",
   "execution_count": 6,
   "metadata": {
    "collapsed": false
   },
   "outputs": [
    {
     "name": "stdout",
     "output_type": "stream",
     "text": [
      "\n",
      "Accuracy Ada Boost:  0.423912723577 \n",
      "\n"
     ]
    }
   ],
   "source": [
    "clf = AdaBoostClassifier(n_estimators=25)\n",
    "clf.fit(X_train, y_train)\n",
    "y_predict_clf = clf.predict(X_test)\n",
    "scores = cross_val_score(clf, X, y)\n",
    "print(\"\\nAccuracy Ada Boost: \",scores.mean(), \"\\n\")"
   ]
  },
  {
   "cell_type": "code",
   "execution_count": 7,
   "metadata": {
    "collapsed": false
   },
   "outputs": [
    {
     "name": "stdout",
     "output_type": "stream",
     "text": [
      "\n",
      "Accuracy ExtraTreesClassifier:  0.71619047619 \n",
      "\n"
     ]
    }
   ],
   "source": [
    "from sklearn.ensemble import ExtraTreesClassifier\n",
    "\n",
    "etc = ExtraTreesClassifier(n_estimators=25, max_depth=None,\n",
    "    min_samples_split=2, random_state=0)\n",
    "\n",
    "etc.fit(X_train,y_train)\n",
    "\n",
    "predictions_etc = etc.predict(X_test)\n",
    "accuracy_etc = accuracy_score(y_test, predictions_etc)\n",
    "\n",
    "print(\"\\nAccuracy ExtraTreesClassifier: \", accuracy_etc, \"\\n\") "
   ]
  },
  {
   "cell_type": "code",
   "execution_count": 8,
   "metadata": {
    "collapsed": false
   },
   "outputs": [
    {
     "name": "stdout",
     "output_type": "stream",
     "text": [
      "\n",
      "Accuracy RidgeClassifier:  0.764285714286 \n",
      "\n"
     ]
    }
   ],
   "source": [
    "ridge = linear_model.RidgeClassifier(random_state=0, max_iter=5, tol=None)\n",
    "ridge.fit(X_train,y_train)\n",
    "\n",
    "predictions_ridge = ridge.predict(X_test)\n",
    "accuracy_ridge = accuracy_score(y_test, predictions_ridge)\n",
    "\n",
    "print(\"\\nAccuracy RidgeClassifier: \", accuracy_ridge, \"\\n\") "
   ]
  },
  {
   "cell_type": "code",
   "execution_count": 9,
   "metadata": {
    "collapsed": false
   },
   "outputs": [
    {
     "name": "stdout",
     "output_type": "stream",
     "text": [
      "\n",
      "Accuracy stochastic gradient descent:  0.774761904762 \n",
      "\n"
     ]
    }
   ],
   "source": [
    "sgd = linear_model.SGDClassifier(max_iter=5, tol=None)\n",
    "sgd.fit(X_train,y_train)\n",
    "\n",
    "predictions_sgd = sgd.predict(X_test)\n",
    "accuracy_sgd = accuracy_score(y_test, predictions_sgd)\n",
    "\n",
    "print(\"\\nAccuracy stochastic gradient descent: \", accuracy_sgd, \"\\n\") "
   ]
  },
  {
   "cell_type": "code",
   "execution_count": null,
   "metadata": {
    "collapsed": true
   },
   "outputs": [],
   "source": []
  }
 ],
 "metadata": {
  "anaconda-cloud": {},
  "kernelspec": {
   "display_name": "Python [default]",
   "language": "python",
   "name": "python3"
  },
  "language_info": {
   "codemirror_mode": {
    "name": "ipython",
    "version": 3
   },
   "file_extension": ".py",
   "mimetype": "text/x-python",
   "name": "python",
   "nbconvert_exporter": "python",
   "pygments_lexer": "ipython3",
   "version": "3.5.2"
  }
 },
 "nbformat": 4,
 "nbformat_minor": 1
}
