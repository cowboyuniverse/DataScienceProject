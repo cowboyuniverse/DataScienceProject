{
 "cells": [
  {
   "cell_type": "code",
   "execution_count": 24,
   "metadata": {
    "collapsed": true
   },
   "outputs": [],
   "source": [
    "import numpy as np\n",
    "import pandas as pd\n",
    "from sklearn.model_selection import train_test_split\n",
    "from sklearn.metrics import accuracy_score\n",
    "\n",
    "from numpy import array\n",
    "from sklearn.linear_model import LogisticRegression"
   ]
  },
  {
   "cell_type": "code",
   "execution_count": 32,
   "metadata": {
    "collapsed": false
   },
   "outputs": [
    {
     "name": "stdout",
     "output_type": "stream",
     "text": [
      "the first json object has total ingredients: \n"
     ]
    },
    {
     "data": {
      "text/plain": [
       "9"
      ]
     },
     "execution_count": 32,
     "metadata": {},
     "output_type": "execute_result"
    }
   ],
   "source": [
    "cuisine_train_dataframe = pd.read_json('../train.json')\n",
    "\n",
    "feature_cols = ['ingredients']\n",
    "\n",
    "X = cuisine_train_dataframe[feature_cols]\n",
    "\n",
    "# converting array of strings for each json object to array of 1's and zeros by finding the number of unique strings \n",
    "#in all arrays in total\n",
    "# and creating that many columns and looping through all strings in the arrays and finding their index and setting it to 1 \n",
    "\n",
    "keys = set()\n",
    "\n",
    "for ing_list in X['ingredients']:\n",
    "    for ing in ing_list:\n",
    "        keys.add(ing)\n",
    "        \n",
    "        \n",
    "encoded = []\n",
    "\n",
    "for i in range (len(X)):\n",
    "    \n",
    "    encoded.append(list(np.zeros(len(keys))))\n",
    "    \n",
    "\n",
    "key_list = list(keys)\n",
    "\n",
    "my_index = 0\n",
    "\n",
    "for l in X['ingredients']:\n",
    "    for item in l:\n",
    "        index = key_list.index(item)\n",
    "        encoded[my_index][index] = 1\n",
    "    my_index += 1\n",
    "    \n",
    "X = np.array(encoded)\n",
    "\n",
    "print(\"the first json object has total ingredients: \")\n",
    "np.count_nonzero(X[0] == 1)\n",
    "# 9 columns are set to 1 \n"
   ]
  },
  {
   "cell_type": "code",
   "execution_count": 33,
   "metadata": {
    "collapsed": false
   },
   "outputs": [
    {
     "name": "stdout",
     "output_type": "stream",
     "text": [
      "['italian' 'southern_us' 'mexican' ..., 'italian' 'french' 'korean']\n",
      "1483          french\n",
      "2185     southern_us\n",
      "2520     southern_us\n",
      "3721    cajun_creole\n",
      "3727         mexican\n",
      "4524     southern_us\n",
      "234          italian\n",
      "4735         italian\n",
      "5839         italian\n",
      "2939     southern_us\n",
      "3053         mexican\n",
      "867      southern_us\n",
      "276          mexican\n",
      "5798         mexican\n",
      "3512            thai\n",
      "5789         italian\n",
      "3198         italian\n",
      "5908            thai\n",
      "5718         italian\n",
      "2687          korean\n",
      "250     cajun_creole\n",
      "5461    cajun_creole\n",
      "3052         italian\n",
      "2711          indian\n",
      "3771         italian\n",
      "5988     southern_us\n",
      "5645          indian\n",
      "4617         chinese\n",
      "368           french\n",
      "4916          korean\n",
      "            ...     \n",
      "108          italian\n",
      "517           indian\n",
      "684          mexican\n",
      "5921         mexican\n",
      "5304         mexican\n",
      "5108        moroccan\n",
      "1650            thai\n",
      "2345         italian\n",
      "45            indian\n",
      "4250        jamaican\n",
      "3985         chinese\n",
      "3178        jamaican\n",
      "2349          french\n",
      "4530         italian\n",
      "1926         mexican\n",
      "2294         spanish\n",
      "4962          french\n",
      "1759          indian\n",
      "2922         chinese\n",
      "1236         italian\n",
      "2159        japanese\n",
      "5411           greek\n",
      "5647         italian\n",
      "808          italian\n",
      "5281          korean\n",
      "2006           irish\n",
      "5497     southern_us\n",
      "2241         italian\n",
      "2105         spanish\n",
      "4739          korean\n",
      "Name: cuisine, dtype: object\n",
      "0.714005876592\n"
     ]
    }
   ],
   "source": [
    "\n",
    "y = cuisine_train_dataframe['cuisine'] \n",
    "\n",
    "\n",
    "X_train, X_test, y_train, y_test = train_test_split(X, y, test_size=0.17, random_state=1)\n",
    "\n",
    "logReg = LogisticRegression()\n",
    "logReg.fit(X_train, y_train)\n",
    "\n",
    "y_predict = logReg.predict(X_test)\n",
    "\n",
    "print(y_predict)\n",
    "print(y_test) \n",
    "\n",
    "accuracy = accuracy_score(y_test, y_predict)\n",
    "\n",
    "print(accuracy)\n",
    "\n",
    "\n",
    "\n",
    "\n"
   ]
  },
  {
   "cell_type": "code",
   "execution_count": null,
   "metadata": {
    "collapsed": true
   },
   "outputs": [],
   "source": []
  }
 ],
 "metadata": {
  "anaconda-cloud": {},
  "kernelspec": {
   "display_name": "Python [default]",
   "language": "python",
   "name": "python3"
  },
  "language_info": {
   "codemirror_mode": {
    "name": "ipython",
    "version": 3
   },
   "file_extension": ".py",
   "mimetype": "text/x-python",
   "name": "python",
   "nbconvert_exporter": "python",
   "pygments_lexer": "ipython3",
   "version": "3.5.2"
  }
 },
 "nbformat": 4,
 "nbformat_minor": 1
}
