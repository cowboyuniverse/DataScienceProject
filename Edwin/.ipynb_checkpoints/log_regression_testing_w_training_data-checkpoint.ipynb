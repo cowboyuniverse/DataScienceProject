{
 "cells": [
  {
   "cell_type": "code",
   "execution_count": 3,
   "metadata": {
    "collapsed": true
   },
   "outputs": [],
   "source": [
    "import numpy as np\n",
    "import pandas as pd\n",
    "from sklearn.model_selection import train_test_split\n",
    "from sklearn.metrics import accuracy_score\n",
    "\n",
    "from numpy import array\n",
    "from sklearn.linear_model import LogisticRegression"
   ]
  },
  {
   "cell_type": "code",
   "execution_count": 8,
   "metadata": {
    "collapsed": false
   },
   "outputs": [
    {
     "name": "stdout",
     "output_type": "stream",
     "text": [
      "the first json object has total ingredients: \n"
     ]
    },
    {
     "data": {
      "text/plain": [
       "9"
      ]
     },
     "execution_count": 8,
     "metadata": {},
     "output_type": "execute_result"
    }
   ],
   "source": [
    "cuisine_train_dataframe = pd.read_json('../35000.json')\n",
    "\n",
    "feature_cols = ['ingredients']\n",
    "\n",
    "X = cuisine_train_dataframe[feature_cols]\n",
    "\n",
    "# converting array of strings for each json object to array of 1's and zeros by finding the number of unique strings \n",
    "#in all arrays in total\n",
    "# and creating that many columns and looping through all strings in the arrays and finding their index and setting it to 1 \n",
    "\n",
    "keys = set()\n",
    "\n",
    "for ing_list in X['ingredients']:\n",
    "    for ing in ing_list:\n",
    "        keys.add(ing)\n",
    "        \n",
    "# create list of same size as X of lists of zeros of size n where n = the number of unique keys         \n",
    "encoded = np.zeros(len(X) * len(keys)).reshape((len(X), len(keys)))\n",
    "\n",
    "key_list = list(keys)\n",
    "\n",
    "my_index = 0\n",
    "\n",
    "for l in X['ingredients']:\n",
    "    for item in l:\n",
    "        index = key_list.index(item)\n",
    "        encoded[my_index][index] = 1\n",
    "    my_index += 1\n",
    "    \n",
    "X = np.array(encoded)\n",
    "\n",
    "print(\"the first json object has total ingredients: \")\n",
    "np.count_nonzero(X[0] == 1)\n",
    "# 9 columns are set to 1 \n"
   ]
  },
  {
   "cell_type": "code",
   "execution_count": 9,
   "metadata": {
    "collapsed": false
   },
   "outputs": [
    {
     "name": "stdout",
     "output_type": "stream",
     "text": [
      "['mexican' 'indian' 'indian' ..., 'greek' 'italian' 'cajun_creole']\n",
      "25474         mexican\n",
      "19761          indian\n",
      "32740          indian\n",
      "34148          french\n",
      "5218      southern_us\n",
      "17371         mexican\n",
      "11160          french\n",
      "2445          mexican\n",
      "27584         spanish\n",
      "4545          mexican\n",
      "18623        japanese\n",
      "17605         mexican\n",
      "34016         british\n",
      "33127         chinese\n",
      "23296         chinese\n",
      "5254            greek\n",
      "18629        filipino\n",
      "20863     southern_us\n",
      "6095           french\n",
      "25944      vietnamese\n",
      "11350     southern_us\n",
      "17796         italian\n",
      "4274           indian\n",
      "22648         italian\n",
      "10586         mexican\n",
      "11518         italian\n",
      "28809         british\n",
      "20713         chinese\n",
      "7550          italian\n",
      "14037         chinese\n",
      "             ...     \n",
      "19279         mexican\n",
      "33726          indian\n",
      "9451          chinese\n",
      "6639          chinese\n",
      "31773            thai\n",
      "11859         spanish\n",
      "15594      vietnamese\n",
      "32859         mexican\n",
      "16754     southern_us\n",
      "31804        japanese\n",
      "32300      vietnamese\n",
      "9193           korean\n",
      "19168          indian\n",
      "26383         mexican\n",
      "28882          french\n",
      "34085         spanish\n",
      "2721      southern_us\n",
      "29784     southern_us\n",
      "26802    cajun_creole\n",
      "3813           indian\n",
      "28704     southern_us\n",
      "14799         italian\n",
      "6144         japanese\n",
      "22114    cajun_creole\n",
      "4328          mexican\n",
      "24542         mexican\n",
      "24039         italian\n",
      "5824            greek\n",
      "2810          italian\n",
      "31897    cajun_creole\n",
      "Name: cuisine, dtype: object\n",
      "0.792285714286\n"
     ]
    }
   ],
   "source": [
    "\n",
    "y = cuisine_train_dataframe['cuisine'] \n",
    "\n",
    "\n",
    "X_train, X_test, y_train, y_test = train_test_split(X, y, test_size=0.1, random_state=1)\n",
    "\n",
    "logReg = LogisticRegression()\n",
    "logReg.fit(X_train, y_train)\n",
    "\n",
    "y_predict = logReg.predict(X_test)\n",
    "\n",
    "print(y_predict)\n",
    "print(y_test) \n",
    "\n",
    "accuracy = accuracy_score(y_test, y_predict)\n",
    "\n",
    "print(accuracy)\n",
    "\n",
    "\n",
    "\n",
    "\n"
   ]
  },
  {
   "cell_type": "code",
   "execution_count": null,
   "metadata": {
    "collapsed": true
   },
   "outputs": [],
   "source": []
  }
 ],
 "metadata": {
  "anaconda-cloud": {},
  "kernelspec": {
   "display_name": "Python [default]",
   "language": "python",
   "name": "python3"
  },
  "language_info": {
   "codemirror_mode": {
    "name": "ipython",
    "version": 3
   },
   "file_extension": ".py",
   "mimetype": "text/x-python",
   "name": "python",
   "nbconvert_exporter": "python",
   "pygments_lexer": "ipython3",
   "version": "3.5.2"
  }
 },
 "nbformat": 4,
 "nbformat_minor": 1
}
