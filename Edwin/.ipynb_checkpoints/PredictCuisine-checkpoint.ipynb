{
 "cells": [
  {
   "cell_type": "code",
   "execution_count": 16,
   "metadata": {
    "collapsed": true
   },
   "outputs": [],
   "source": [
    "import numpy as np\n",
    "import pandas as pd\n",
    "from sklearn.neighbors import KNeighborsClassifier\n",
    "from sklearn.model_selection import train_test_split\n",
    "from sklearn.metrics import accuracy_score\n",
    "\n",
    "from numpy import array\n",
    "from numpy import argmax\n",
    "from sklearn.preprocessing import LabelEncoder\n",
    "from sklearn.preprocessing import OneHotEncoder\n"
   ]
  },
  {
   "cell_type": "markdown",
   "metadata": {},
   "source": [
    "# Training and testing for now using training data only using KNN. Once it's working we can train with training data and test with the testing data  "
   ]
  },
  {
   "cell_type": "code",
   "execution_count": 61,
   "metadata": {
    "collapsed": false
   },
   "outputs": [
    {
     "name": "stdout",
     "output_type": "stream",
     "text": [
      "6000\n"
     ]
    }
   ],
   "source": [
    "\n",
    "cuisine_train_dataframe = pd.read_json('../train_6000.json')\n",
    "cuisine_test_dataframe = pd.read_json('../test.json')\n",
    "\n",
    "feature_cols = ['ingredients']\n",
    "\n",
    "Y = cuisine_test_dataframe[['ingredients']]\n",
    "\n",
    "\n",
    "# TODO: convert array of string ingredients to numerical values: use OneHotEncoder just like problem 1 in homework 3. \n",
    "# The code below up until 'end of todo' is not working .. accuracy should be close to 100\n",
    "\n",
    "X = cuisine_train_dataframe[feature_cols]\n",
    "\n",
    "\n",
    "keys = set()\n",
    "\n",
    "for ing_list in X['ingredients']:\n",
    "    for ing in ing_list:\n",
    "        keys.add(ing)\n",
    "        \n",
    "'''for ing_list in Y['ingredients']:\n",
    "    for ing in ing_list:\n",
    "        keys.add(ing)\n",
    "        '''\n",
    "        \n",
    "encoded = []\n",
    "\n",
    "for i in range (len(X)):\n",
    "    \n",
    "    encoded.append(list(np.zeros(len(keys))))\n",
    "    \n",
    "\n",
    "key_list = list(keys)\n",
    "\n",
    "my_index = 0\n",
    "\n",
    "for l in X['ingredients']:\n",
    "    for item in l:\n",
    "        index = key_list.index(item)\n",
    "        encoded[my_index][index] = 1\n",
    "    my_index += 1\n",
    "    \n",
    "#X = pd.DataFrame({'ingredients':encoded})\n",
    "\n",
    "X = np.array(encoded)\n",
    "\n",
    "print(len(X))\n",
    "\n",
    "\n",
    "\n",
    "\n",
    "    \n",
    "\n",
    "\n"
   ]
  },
  {
   "cell_type": "code",
   "execution_count": 66,
   "metadata": {
    "collapsed": false
   },
   "outputs": [
    {
     "name": "stdout",
     "output_type": "stream",
     "text": [
      "21\n",
      "0.420176297747\n",
      "22\n",
      "0.419196865818\n",
      "23\n",
      "0.422135161606\n",
      "24\n",
      "0.426052889324\n",
      "25\n",
      "0.426052889324\n",
      "26\n",
      "0.432908912831\n",
      "27\n",
      "0.428991185113\n",
      "28\n",
      "0.428011753183\n",
      "29\n",
      "0.416258570029\n",
      "30\n",
      "0.426052889324\n"
     ]
    }
   ],
   "source": [
    "### col to be predicted\n",
    "y = cuisine_train_dataframe['cuisine'] \n",
    "\n",
    "\"\"\" test\n",
    "\n",
    "encoded2 = []\n",
    "\n",
    "for i in range (len(Y)):\n",
    "    \n",
    "    encoded2.append(list(np.zeros(len(keys))))\n",
    "    \n",
    "my_index2 = 0\n",
    "\n",
    "for l in Y['ingredients']:\n",
    "    for item in l:\n",
    "        index = key_list.index(item)\n",
    "        encoded2[my_index2][index] = 1\n",
    "    my_index2 += 1\n",
    "    \n",
    "Y = np.array(encoded2)\n",
    "\n",
    "\n",
    "\n",
    "end test \"\"\"\n",
    "\n",
    "# pick 40% of the data for testing and the rest (60%) for training\n",
    "X_train, X_test, y_train, y_test = train_test_split(X, y, test_size=0.17, random_state=1)\n",
    "\n",
    "\n",
    "\n",
    "for i in range(21, 31):\n",
    "    my_knn_for_cs4661 = KNeighborsClassifier(n_neighbors=i)\n",
    "\n",
    "    my_knn_for_cs4661.fit(X_train, y_train)\n",
    "\n",
    "    #my_knn_for_cs4661.fit(X, y)\n",
    "\n",
    "    y_predict = my_knn_for_cs4661.predict(X_test)\n",
    "\n",
    "    #y_predict = my_knn_for_cs4661.predict(Y)\n",
    "\n",
    "    #print(y_predict)\n",
    "    #print(y_test)\n",
    "\n",
    "    accuracy = accuracy_score(y_test, y_predict)\n",
    "    print(i)\n",
    "    print(accuracy)"
   ]
  },
  {
   "cell_type": "code",
   "execution_count": null,
   "metadata": {
    "collapsed": true
   },
   "outputs": [],
   "source": []
  }
 ],
 "metadata": {
  "anaconda-cloud": {},
  "kernelspec": {
   "display_name": "Python [default]",
   "language": "python",
   "name": "python3"
  },
  "language_info": {
   "codemirror_mode": {
    "name": "ipython",
    "version": 3
   },
   "file_extension": ".py",
   "mimetype": "text/x-python",
   "name": "python",
   "nbconvert_exporter": "python",
   "pygments_lexer": "ipython3",
   "version": "3.5.2"
  }
 },
 "nbformat": 4,
 "nbformat_minor": 1
}
