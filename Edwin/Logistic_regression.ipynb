{
 "cells": [
  {
   "cell_type": "code",
   "execution_count": 1,
   "metadata": {
    "collapsed": true
   },
   "outputs": [],
   "source": [
    "import numpy as np\n",
    "import pandas as pd\n",
    "from sklearn.model_selection import train_test_split\n",
    "from sklearn.metrics import accuracy_score\n",
    "\n",
    "from numpy import array\n",
    "from sklearn.linear_model import LogisticRegression"
   ]
  },
  {
   "cell_type": "code",
   "execution_count": 2,
   "metadata": {
    "collapsed": false
   },
   "outputs": [
    {
     "name": "stdout",
     "output_type": "stream",
     "text": [
      "the 2nd json object has total ingredients: \n"
     ]
    },
    {
     "data": {
      "text/plain": [
       "20"
      ]
     },
     "execution_count": 2,
     "metadata": {},
     "output_type": "execute_result"
    }
   ],
   "source": [
    "cuisine_train_dataframe = pd.read_json('../train.json')\n",
    "cuisine_test_dataframe = pd.read_json('../test.json')\n",
    "\n",
    "feature_cols = ['ingredients']\n",
    "\n",
    "X = cuisine_train_dataframe[feature_cols]\n",
    "\n",
    "Y = cuisine_test_dataframe[['ingredients']]\n",
    "\n",
    "# converting array of strings for each json object to array of 1's and zeros by finding the number of unique strings \n",
    "#in all arrays in total\n",
    "# and creating that many columns and looping through all strings in the arrays and finding their index and setting it to 1 \n",
    "\n",
    "keys = set()\n",
    "\n",
    "for ing_list in X['ingredients']:\n",
    "    for ing in ing_list:\n",
    "        keys.add(ing)\n",
    "\n",
    "for ing_list in Y['ingredients']:\n",
    "    for ing in ing_list:\n",
    "        keys.add(ing)  \n",
    "        \n",
    "             \n",
    "encoded = []\n",
    "\n",
    "for i in range (len(X)):\n",
    "    \n",
    "    encoded.append(list(np.zeros(len(keys))))\n",
    "    \n",
    "\n",
    "key_list = list(keys)\n",
    "\n",
    "my_index = 0\n",
    "\n",
    "for l in X['ingredients']:\n",
    "    for item in l:\n",
    "        index = key_list.index(item)\n",
    "        encoded[my_index][index] = 1\n",
    "    my_index += 1\n",
    "    \n",
    "X = np.array(encoded)\n",
    "\n",
    "print(\"the 2nd json object has total ingredients: \")\n",
    "np.count_nonzero(X[1] == 1)\n",
    "# 20 columns are set to 1 \n"
   ]
  },
  {
   "cell_type": "code",
   "execution_count": 3,
   "metadata": {
    "collapsed": false
   },
   "outputs": [
    {
     "name": "stdout",
     "output_type": "stream",
     "text": [
      "['italian' 'british' 'chinese' ..., 'cajun_creole' 'french' 'indian']\n"
     ]
    }
   ],
   "source": [
    "y = cuisine_train_dataframe['cuisine'] \n",
    "\n",
    "# encode the testing data to zeros and ones as well \n",
    "\n",
    "encoded2 = []\n",
    "\n",
    "for i in range (len(Y)):\n",
    "    \n",
    "    encoded2.append(list(np.zeros(len(keys))))\n",
    "    \n",
    "my_index2 = 0\n",
    "\n",
    "for l in Y['ingredients']:\n",
    "    for item in l:\n",
    "        index = key_list.index(item)\n",
    "        encoded2[my_index2][index] = 1\n",
    "    my_index2 += 1\n",
    "    \n",
    "\n",
    "Y = np.array(encoded2)\n",
    "\n",
    "logReg = LogisticRegression()\n",
    "logReg.fit(X, y)\n",
    "\n",
    "y_predict = logReg.predict(Y)\n",
    "\n",
    "print(y_predict)\n"
   ]
  },
  {
   "cell_type": "code",
   "execution_count": null,
   "metadata": {
    "collapsed": true
   },
   "outputs": [],
   "source": []
  }
 ],
 "metadata": {
  "anaconda-cloud": {},
  "kernelspec": {
   "display_name": "Python [default]",
   "language": "python",
   "name": "python3"
  },
  "language_info": {
   "codemirror_mode": {
    "name": "ipython",
    "version": 3
   },
   "file_extension": ".py",
   "mimetype": "text/x-python",
   "name": "python",
   "nbconvert_exporter": "python",
   "pygments_lexer": "ipython3",
   "version": "3.5.2"
  }
 },
 "nbformat": 4,
 "nbformat_minor": 1
}
