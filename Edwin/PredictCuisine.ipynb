{
 "cells": [
  {
   "cell_type": "code",
   "execution_count": 4,
   "metadata": {
    "collapsed": true
   },
   "outputs": [],
   "source": [
    "import numpy as np\n",
    "import pandas as pd\n",
    "from sklearn.neighbors import KNeighborsClassifier\n",
    "from sklearn.model_selection import train_test_split\n",
    "from sklearn.metrics import accuracy_score\n",
    "\n",
    "from numpy import array\n",
    "from numpy import argmax\n",
    "from sklearn.preprocessing import LabelEncoder\n",
    "from sklearn.preprocessing import OneHotEncoder\n"
   ]
  },
  {
   "cell_type": "markdown",
   "metadata": {},
   "source": [
    "# Training and testing for now using training data only using KNN. Once it's working we can train with training data and test with the testing data  "
   ]
  },
  {
   "cell_type": "code",
   "execution_count": 5,
   "metadata": {
    "collapsed": false
   },
   "outputs": [
    {
     "name": "stderr",
     "output_type": "stream",
     "text": [
      "C:\\Users\\Edwin\\Anaconda3\\lib\\site-packages\\sklearn\\preprocessing\\label.py:111: DataConversionWarning: A column-vector y was passed when a 1d array was expected. Please change the shape of y to (n_samples, ), for example using ravel().\n",
      "  y = column_or_1d(y, warn=True)\n"
     ]
    },
    {
     "name": "stdout",
     "output_type": "stream",
     "text": [
      "[[ 0.  0.  0. ...,  0.  0.  0.]\n",
      " [ 0.  0.  0. ...,  0.  0.  0.]\n",
      " [ 0.  0.  0. ...,  0.  0.  0.]\n",
      " ..., \n",
      " [ 0.  0.  0. ...,  0.  0.  0.]\n",
      " [ 0.  0.  0. ...,  0.  0.  0.]\n",
      " [ 0.  0.  0. ...,  0.  0.  0.]]\n",
      "['italian' 'italian' 'italian' ..., 'italian' 'italian' 'italian']\n",
      "1957        japanese\n",
      "2087          french\n",
      "1394     southern_us\n",
      "1520          french\n",
      "1098      vietnamese\n",
      "393          mexican\n",
      "28           italian\n",
      "99           mexican\n",
      "351      southern_us\n",
      "2020        japanese\n",
      "1352         mexican\n",
      "1144         mexican\n",
      "2855        filipino\n",
      "1225         british\n",
      "297          italian\n",
      "1785      vietnamese\n",
      "126      southern_us\n",
      "2757           irish\n",
      "1596        japanese\n",
      "2027     southern_us\n",
      "2996         italian\n",
      "681          chinese\n",
      "45           chinese\n",
      "1436     southern_us\n",
      "2747     southern_us\n",
      "301          mexican\n",
      "2648          french\n",
      "1607      vietnamese\n",
      "636          russian\n",
      "547          mexican\n",
      "            ...     \n",
      "1208         mexican\n",
      "484      southern_us\n",
      "1136            thai\n",
      "1735         italian\n",
      "2035         mexican\n",
      "1330     southern_us\n",
      "2984     southern_us\n",
      "2438     southern_us\n",
      "2343          indian\n",
      "1605           irish\n",
      "24            indian\n",
      "1355     southern_us\n",
      "101          mexican\n",
      "628           indian\n",
      "1729         mexican\n",
      "992      southern_us\n",
      "2718            thai\n",
      "2406         chinese\n",
      "8       cajun_creole\n",
      "1066        japanese\n",
      "363           indian\n",
      "2886         italian\n",
      "1013         mexican\n",
      "400          mexican\n",
      "2196         italian\n",
      "2864        jamaican\n",
      "2053     southern_us\n",
      "38           mexican\n",
      "2111         chinese\n",
      "864          mexican\n",
      "Name: cuisine, dtype: object\n",
      "0.175833333333\n"
     ]
    }
   ],
   "source": [
    "# TAKES 45+ SEC TO EXECUTE.. A LOT OF DATA\n",
    "\n",
    "cuisine_train_dataframe = pd.read_json('../train.json')\n",
    "cuisine_test_dataframe = pd.read_json('../test.json')\n",
    "\n",
    "feature_cols = ['ingredients']\n",
    "\n",
    "\n",
    "# TODO: convert array of string ingredients to numerical values: use OneHotEncoder just like problem 1 in homework 3. \n",
    "# The code below up until 'end of todo' is not working .. accuracy should be close to 100\n",
    "\n",
    "X = cuisine_train_dataframe[feature_cols]\n",
    "\n",
    "# OneHotEncoder: convert array of string ingredients to array of floats representation so sklearn can use it to predict \n",
    "\n",
    "values = array(X)\n",
    "# integer encode\n",
    "label_encoder = LabelEncoder()\n",
    "integer_encoded = label_encoder.fit_transform(values)\n",
    "\n",
    "# binary encode\n",
    "onehot_encoder = OneHotEncoder(sparse=False)\n",
    "integer_encoded = integer_encoded.reshape(len(integer_encoded), 1)\n",
    "onehot_encoded = onehot_encoder.fit_transform(integer_encoded)\n",
    "\n",
    "X = onehot_encoded\n",
    "\n",
    "print(X)\n",
    "\n",
    "# END OF TODO, everything below is fine\n",
    "\n",
    "\n",
    "# col to be predicted\n",
    "y = cuisine_train_dataframe['cuisine'] \n",
    "\n",
    "# pick 40% of the data for testing and the rest (60%) for training\n",
    "X_train, X_test, y_train, y_test = train_test_split(X, y, test_size=0.4, random_state=1)\n",
    "\n",
    "k = 3\n",
    "my_knn_for_cs4661 = KNeighborsClassifier(n_neighbors=k)\n",
    "                \n",
    "my_knn_for_cs4661.fit(X_train, y_train)\n",
    "\n",
    "y_predict = my_knn_for_cs4661.predict(X_test)\n",
    "\n",
    "print(y_predict)\n",
    "print(y_test)\n",
    "\n",
    "accuracy = accuracy_score(y_test, y_predict)\n",
    "\n",
    "print(accuracy)\n",
    "\n",
    "\n"
   ]
  },
  {
   "cell_type": "code",
   "execution_count": null,
   "metadata": {
    "collapsed": true
   },
   "outputs": [],
   "source": []
  }
 ],
 "metadata": {
  "anaconda-cloud": {},
  "kernelspec": {
   "display_name": "Python [default]",
   "language": "python",
   "name": "python3"
  },
  "language_info": {
   "codemirror_mode": {
    "name": "ipython",
    "version": 3
   },
   "file_extension": ".py",
   "mimetype": "text/x-python",
   "name": "python",
   "nbconvert_exporter": "python",
   "pygments_lexer": "ipython3",
   "version": "3.5.2"
  }
 },
 "nbformat": 4,
 "nbformat_minor": 1
}
