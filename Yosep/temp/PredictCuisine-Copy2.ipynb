{
 "cells": [
  {
   "cell_type": "markdown",
   "metadata": {},
   "source": [
    "https://www.kaggle.com/c/whats-cooking\n",
    "### train.json - the training set containing recipes id, type of cuisine, and list of ingredients  \n",
    "### test.json - the test set containing recipes id, and list of ingredients  \n",
    "### sample_submission.csv - a sample submission file in the correct format  \n",
    "\n",
    "In the dataset, we include the recipe id, the type of cuisine, and the list of ingredients of each recipe (of variable length). The data is stored in JSON format. \n",
    "\n",
    "An example of a recipe node in train.json:\n",
    "\n",
    "\n",
    "{\n",
    " \"id\": 24717,\n",
    " \"cuisine\": \"indian\",\n",
    " \"ingredients\": [\n",
    "     \"tumeric\",\n",
    "     \"vegetable stock\",\n",
    "     \"tomatoes\",\n",
    "     \"garam masala\",\n",
    "     \"naan\",\n",
    "     \"red lentils\",\n",
    "     \"red chili peppers\",\n",
    "     \"onions\",\n",
    "     \"spinach\",\n",
    "     \"sweet potatoes\"\n",
    " ]\n",
    " },\n",
    " \n",
    " In the test file test.json, the format of a recipe is the same as train.json, only the cuisine type is removed, as it is the target variable you are going to predict."
   ]
  },
  {
   "cell_type": "code",
   "execution_count": 19,
   "metadata": {
    "collapsed": true
   },
   "outputs": [],
   "source": [
    "import json\n",
    "import pandas as pd\n",
    "trainData_df = pd.read_json('./train.json')\n",
    "testData_df = pd.read_json('../test.json')\n",
    "sample_df = pd.read_csv('../sample_submission.csv')\n"
   ]
  },
  {
   "cell_type": "code",
   "execution_count": 23,
   "metadata": {},
   "outputs": [
    {
     "data": {
      "text/plain": [
       "Index(['cuisine', 'id', 'ingredients'], dtype='object')"
      ]
     },
     "execution_count": 23,
     "metadata": {},
     "output_type": "execute_result"
    }
   ],
   "source": [
    "#checking the json objects\n",
    "trainData_df.columns\n",
    "# trainData_df"
   ]
  },
  {
   "cell_type": "code",
   "execution_count": 52,
   "metadata": {
    "collapsed": true
   },
   "outputs": [],
   "source": [
    "\n"
   ]
  },
  {
   "cell_type": "code",
   "execution_count": 165,
   "metadata": {
    "collapsed": true
   },
   "outputs": [],
   "source": [
    "#getting the set of cuisines\n",
    "trainData_df['cuisine']\n",
    "\n",
    "\n",
    "cuisine_set = set()\n",
    "duplicate_list_of_cuisines = []\n",
    "greek_ingrediants = {}\n",
    "\n",
    "for item in trainData_df['cuisine']:\n",
    "#     cuisine.add(item)\n",
    "#     print(item)\n",
    "    duplicate_list_of_cuisines.append(item)\n",
    "\n",
    "for item in duplicate_list_of_cuisines:\n",
    "    cuisine_set.add(item)\n",
    "\n",
    "    \n"
   ]
  },
  {
   "cell_type": "code",
   "execution_count": 166,
   "metadata": {},
   "outputs": [
    {
     "name": "stdout",
     "output_type": "stream",
     "text": [
      "{'russian', 'korean', 'filipino', 'italian', 'british', 'brazilian', 'irish', 'moroccan', 'jamaican', 'spanish', 'vietnamese', 'french', 'mexican', 'chinese', 'cajun_creole', 'southern_us', 'thai', 'indian', 'japanese', 'greek'}\n"
     ]
    }
   ],
   "source": [
    "print(cuisine_set)"
   ]
  },
  {
   "cell_type": "code",
   "execution_count": 236,
   "metadata": {
    "collapsed": true
   },
   "outputs": [],
   "source": [
    "greek_ingrediants = set()\n",
    "all_ingred_greek = []\n",
    "for (idx, row) in trainData_df.iterrows():\n",
    "#     print(row.loc['cuisine'])\n",
    "#     print(row.cuisine)\n",
    "#     print(row.index)\n",
    "#     print(row.ingredients)\n",
    "    \n",
    "    if (row.loc['cuisine'] == 'greek'):\n",
    "        for item in row.ingredients:\n",
    "#             greek_ingrediants.update({item}) \n",
    "#             print(item)\n",
    "            greek_ingrediants.add(item)\n",
    "            all_ingred_greek.append(item)\n",
    "#         print(row.ingredients)\n",
    "\n",
    "        \n",
    "# print(greek_ingrediants)\n",
    "\n",
    "\n"
   ]
  },
  {
   "cell_type": "code",
   "execution_count": 261,
   "metadata": {},
   "outputs": [
    {
     "name": "stdout",
     "output_type": "stream",
     "text": [
      "                  ingredients  count\n",
      "12                       salt    572\n",
      "18                  olive oil    504\n",
      "16              dried oregano    267\n",
      "65              garlic cloves    254\n",
      "8        feta cheese crumbles    252\n",
      "43     extra-virgin olive oil    229\n",
      "77          fresh lemon juice    222\n",
      "42        ground black pepper    221\n",
      "3                      garlic    216\n",
      "4                      pepper    203\n",
      "39                feta cheese    191\n",
      "58                   cucumber    187\n",
      "5                purple onion    186\n",
      "11                     onions    185\n",
      "20                lemon juice    183\n",
      "52                   tomatoes    156\n",
      "78                      water    143\n",
      "28                      lemon    129\n",
      "158             fresh parsley    113\n",
      "34                 fresh dill    108\n",
      "88          all-purpose flour    100\n",
      "17           red wine vinegar     99\n",
      "209                    butter     90\n",
      "60               black pepper     89\n",
      "70                kosher salt     85\n",
      "71               greek yogurt     84\n",
      "64              fresh oregano     83\n",
      "147                      eggs     80\n",
      "99                   kalamata     78\n",
      "27                      sugar     77\n",
      "47            ground cinnamon     73\n",
      "37                 large eggs     72\n",
      "140    pitted kalamata olives     70\n",
      "50                ground lamb     68\n",
      "46         chopped fresh mint     68\n",
      "15              minced garlic     68\n",
      "141             cooking spray     67\n",
      "31                      honey     67\n",
      "167         flat leaf parsley     65\n",
      "83                   eggplant     61\n",
      "91            unsalted butter     59\n",
      "87             diced tomatoes     57\n",
      "56               plain yogurt     56\n",
      "305              green onions     55\n",
      "126           cherry tomatoes     51\n",
      "214  greek style plain yogurt     48\n",
      "109           red bell pepper     48\n",
      "219                  zucchini     47\n",
      "292             plum tomatoes     47\n",
      "93                       milk     46\n"
     ]
    }
   ],
   "source": [
    "from collections import Counter\n",
    "\n",
    "\n",
    "mainList = list(greek_ingrediants)        \n",
    "# print(mainList)\n",
    "\n",
    "# for (idx, row) in trainData_df.iterrows():\n",
    "#      if (row.loc['cuisine'] == 'greek'):\n",
    "#             c = Counter(row.ingredients)\n",
    "# >>> from collections import Counter\n",
    "# >>> c = Counter(['hello', 'hello', 1])\n",
    "# >>> print c\n",
    "# Counter({'hello': 2, 1: 1})\n",
    "# >>> from collections import Counter\n",
    "# >>> c = Counter(['hello', 'hello', 1])\n",
    "# >>> print c\n",
    "# Counter({'hello': 2, 1: 1})\n",
    "\n",
    "c = Counter(all_ingred_greek)\n",
    "# greek_ingred_counter_df = pd.DataFrame(c)\n",
    "greek_ingred_counter_df = pd.DataFrame.from_dict(c, orient='index').reset_index()\n",
    "\n",
    "greek_ingred_counter_df = greek_ingred_counter_df.rename(columns={'index':'ingredients', 0:'count'})\n",
    "# greek_ingred_counter_df[::25]\n",
    "\n",
    "series = greek_ingred_counter_df.count().sort_values(ascending=False)\n",
    "series.head()\n",
    "\n",
    "grouped = greek_ingred_counter_df.sort_values(['count'], ascending=False)\n",
    "\n",
    "print(grouped[:50])"
   ]
  },
  {
   "cell_type": "code",
   "execution_count": 55,
   "metadata": {},
   "outputs": [
    {
     "name": "stdout",
     "output_type": "stream",
     "text": [
      "{1, 3}\n",
      "{1, 2, 3}\n",
      "{1, 2, 3, 4}\n",
      "{1, 2, 3, 4, 5, 6, 8}\n"
     ]
    }
   ],
   "source": [
    "# initialize my_set\n",
    "my_set = {1,3}\n",
    "print(my_set)\n",
    "\n",
    "# if you uncomment line 9,\n",
    "# you will get an error\n",
    "# TypeError: 'set' object does not support indexing\n",
    "\n",
    "#my_set[0]\n",
    "\n",
    "# add an element\n",
    "# Output: {1, 2, 3}\n",
    "my_set.add(2)\n",
    "print(my_set)\n",
    "series[::25]\n",
    "# add multiple elements\n",
    "# Output: {1, 2, 3, 4}\n",
    "my_set.update([2,3,4])\n",
    "print(my_set)\n",
    "\n",
    "# add list and set\n",
    "# Output: {1, 2, 3, 4, 5, 6, 8}\n",
    "my_set.update([4,5], {1,6,8})\n",
    "print(my_set)"
   ]
  },
  {
   "cell_type": "code",
   "execution_count": 103,
   "metadata": {
    "collapsed": true
   },
   "outputs": [],
   "source": [
    "bz = []\n",
    "s = [2,3,5,3]\n",
    "t = {'bz' :bz}"
   ]
  },
  {
   "cell_type": "code",
   "execution_count": 104,
   "metadata": {
    "collapsed": true
   },
   "outputs": [],
   "source": [
    "t['bz']= [3,2,1,2,4,3]"
   ]
  },
  {
   "cell_type": "code",
   "execution_count": 105,
   "metadata": {},
   "outputs": [
    {
     "data": {
      "text/plain": [
       "{'bz': [3, 2, 1, 2, 4, 3]}"
      ]
     },
     "execution_count": 105,
     "metadata": {},
     "output_type": "execute_result"
    }
   ],
   "source": [
    "t"
   ]
  },
  {
   "cell_type": "code",
   "execution_count": 117,
   "metadata": {
    "collapsed": true
   },
   "outputs": [],
   "source": [
    "x = {\"a\",\"b\",\"c\",\"e\"}\n",
    "y = {\"b\",\"c\"}\n",
    "z = {\"c\",\"d\"}\n",
    "t = {\"e\",\"g\",\"u\", \"a\"}\n",
    "# x.difference(y)\n",
    "# set(['a', 'e', 'd'])\n",
    "# x.difference(y).difference(z)\n",
    "# set(['a', 'e'])"
   ]
  },
  {
   "cell_type": "code",
   "execution_count": 118,
   "metadata": {},
   "outputs": [
    {
     "data": {
      "text/plain": [
       "{'a', 'e'}"
      ]
     },
     "execution_count": 118,
     "metadata": {},
     "output_type": "execute_result"
    }
   ],
   "source": [
    "x.difference(y)"
   ]
  },
  {
   "cell_type": "code",
   "execution_count": 120,
   "metadata": {},
   "outputs": [
    {
     "ename": "NameError",
     "evalue": "name 'russian_ingrediants' is not defined",
     "output_type": "error",
     "traceback": [
      "\u001b[0;31m---------------------------------------------------------------------------\u001b[0m",
      "\u001b[0;31mNameError\u001b[0m                                 Traceback (most recent call last)",
      "\u001b[0;32m<ipython-input-120-e6f30a5cb51a>\u001b[0m in \u001b[0;36m<module>\u001b[0;34m()\u001b[0m\n\u001b[0;32m----> 1\u001b[0;31m \u001b[0mrussian_ingrediants\u001b[0m\u001b[0;34m\u001b[0m\u001b[0m\n\u001b[0m",
      "\u001b[0;31mNameError\u001b[0m: name 'russian_ingrediants' is not defined"
     ]
    }
   ],
   "source": [
    "russian_ingrediants"
   ]
  },
  {
   "cell_type": "code",
   "execution_count": null,
   "metadata": {
    "collapsed": true
   },
   "outputs": [],
   "source": []
  }
 ],
 "metadata": {
  "anaconda-cloud": {},
  "kernelspec": {
   "display_name": "Python 3",
   "language": "python",
   "name": "python3"
  },
  "language_info": {
   "codemirror_mode": {
    "name": "ipython",
    "version": 3
   },
   "file_extension": ".py",
   "mimetype": "text/x-python",
   "name": "python",
   "nbconvert_exporter": "python",
   "pygments_lexer": "ipython3",
   "version": "3.6.2"
  }
 },
 "nbformat": 4,
 "nbformat_minor": 1
}
